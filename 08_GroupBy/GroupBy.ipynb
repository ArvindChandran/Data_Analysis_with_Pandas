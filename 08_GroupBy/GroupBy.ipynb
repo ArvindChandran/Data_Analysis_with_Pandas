{
 "cells": [
  {
   "cell_type": "markdown",
   "metadata": {},
   "source": [
    "# GroupBy"
   ]
  },
  {
   "cell_type": "markdown",
   "metadata": {},
   "source": [
    "### 1. Intro to GroupBy Module"
   ]
  },
  {
   "cell_type": "code",
   "execution_count": 1,
   "metadata": {
    "collapsed": true
   },
   "outputs": [],
   "source": [
    "import pandas as pd"
   ]
  },
  {
   "cell_type": "markdown",
   "metadata": {},
   "source": [
    "<b>NOTE:</b> We already have a rank column, which can serve as a pretty effective index So I'm going to use it to overwrite the default Pandas index."
   ]
  },
  {
   "cell_type": "code",
   "execution_count": 25,
   "metadata": {},
   "outputs": [
    {
     "data": {
      "text/html": [
       "<div>\n",
       "<style>\n",
       "    .dataframe thead tr:only-child th {\n",
       "        text-align: right;\n",
       "    }\n",
       "\n",
       "    .dataframe thead th {\n",
       "        text-align: left;\n",
       "    }\n",
       "\n",
       "    .dataframe tbody tr th {\n",
       "        vertical-align: top;\n",
       "    }\n",
       "</style>\n",
       "<table border=\"1\" class=\"dataframe\">\n",
       "  <thead>\n",
       "    <tr style=\"text-align: right;\">\n",
       "      <th></th>\n",
       "      <th>Company</th>\n",
       "      <th>Sector</th>\n",
       "      <th>Industry</th>\n",
       "      <th>Location</th>\n",
       "      <th>Revenue</th>\n",
       "      <th>Profits</th>\n",
       "      <th>Employees</th>\n",
       "    </tr>\n",
       "    <tr>\n",
       "      <th>Rank</th>\n",
       "      <th></th>\n",
       "      <th></th>\n",
       "      <th></th>\n",
       "      <th></th>\n",
       "      <th></th>\n",
       "      <th></th>\n",
       "      <th></th>\n",
       "    </tr>\n",
       "  </thead>\n",
       "  <tbody>\n",
       "    <tr>\n",
       "      <th>1</th>\n",
       "      <td>Walmart</td>\n",
       "      <td>Retailing</td>\n",
       "      <td>General Merchandisers</td>\n",
       "      <td>Bentonville, AR</td>\n",
       "      <td>482130</td>\n",
       "      <td>14694</td>\n",
       "      <td>2300000</td>\n",
       "    </tr>\n",
       "    <tr>\n",
       "      <th>2</th>\n",
       "      <td>Exxon Mobil</td>\n",
       "      <td>Energy</td>\n",
       "      <td>Petroleum Refining</td>\n",
       "      <td>Irving, TX</td>\n",
       "      <td>246204</td>\n",
       "      <td>16150</td>\n",
       "      <td>75600</td>\n",
       "    </tr>\n",
       "    <tr>\n",
       "      <th>3</th>\n",
       "      <td>Apple</td>\n",
       "      <td>Technology</td>\n",
       "      <td>Computers, Office Equipment</td>\n",
       "      <td>Cupertino, CA</td>\n",
       "      <td>233715</td>\n",
       "      <td>53394</td>\n",
       "      <td>110000</td>\n",
       "    </tr>\n",
       "  </tbody>\n",
       "</table>\n",
       "</div>"
      ],
      "text/plain": [
       "          Company      Sector                     Industry         Location  \\\n",
       "Rank                                                                          \n",
       "1         Walmart   Retailing        General Merchandisers  Bentonville, AR   \n",
       "2     Exxon Mobil      Energy           Petroleum Refining       Irving, TX   \n",
       "3           Apple  Technology  Computers, Office Equipment    Cupertino, CA   \n",
       "\n",
       "      Revenue  Profits  Employees  \n",
       "Rank                               \n",
       "1      482130    14694    2300000  \n",
       "2      246204    16150      75600  \n",
       "3      233715    53394     110000  "
      ]
     },
     "execution_count": 25,
     "metadata": {},
     "output_type": "execute_result"
    }
   ],
   "source": [
    "# fortune = pd.read_csv(\"../00_Datasers/fortune1000.csv\")\n",
    "fortune = pd.read_csv(\"../00_Datasers/fortune1000.csv\", index_col = \"Rank\")\n",
    "sectors = fortune.groupby(\"Sector\")\n",
    "fortune.head(3)"
   ]
  },
  {
   "cell_type": "code",
   "execution_count": 8,
   "metadata": {},
   "outputs": [
    {
     "data": {
      "text/plain": [
       "pandas.core.frame.DataFrame"
      ]
     },
     "execution_count": 8,
     "metadata": {},
     "output_type": "execute_result"
    }
   ],
   "source": [
    "type(fortune)"
   ]
  },
  {
   "cell_type": "code",
   "execution_count": 9,
   "metadata": {},
   "outputs": [
    {
     "data": {
      "text/plain": [
       "pandas.core.groupby.DataFrameGroupBy"
      ]
     },
     "execution_count": 9,
     "metadata": {},
     "output_type": "execute_result"
    }
   ],
   "source": [
    "type(sectors)"
   ]
  },
  {
   "cell_type": "markdown",
   "metadata": {},
   "source": [
    "### 2. The .groupby() Method"
   ]
  },
  {
   "cell_type": "markdown",
   "metadata": {},
   "source": [
    "<b>NOTE:</b> If we pass DataFrame objest to python len method we will get number of rows."
   ]
  },
  {
   "cell_type": "code",
   "execution_count": 10,
   "metadata": {},
   "outputs": [
    {
     "data": {
      "text/plain": [
       "1000"
      ]
     },
     "execution_count": 10,
     "metadata": {},
     "output_type": "execute_result"
    }
   ],
   "source": [
    "len(fortune)"
   ]
  },
  {
   "cell_type": "markdown",
   "metadata": {},
   "source": [
    "<b>NOTE:</b> If we pass DataFrameGroupBy object to python len method we will get number of groupings."
   ]
  },
  {
   "cell_type": "code",
   "execution_count": 11,
   "metadata": {},
   "outputs": [
    {
     "data": {
      "text/plain": [
       "21"
      ]
     },
     "execution_count": 11,
     "metadata": {},
     "output_type": "execute_result"
    }
   ],
   "source": [
    "len(sectors)"
   ]
  },
  {
   "cell_type": "code",
   "execution_count": 12,
   "metadata": {},
   "outputs": [
    {
     "data": {
      "text/plain": [
       "21"
      ]
     },
     "execution_count": 12,
     "metadata": {},
     "output_type": "execute_result"
    }
   ],
   "source": [
    "fortune[\"Sector\"].nunique()"
   ]
  },
  {
   "cell_type": "markdown",
   "metadata": {},
   "source": [
    "<b>NOTE:</b> The size method shows how many rows falls into every grouping."
   ]
  },
  {
   "cell_type": "code",
   "execution_count": 14,
   "metadata": {},
   "outputs": [
    {
     "data": {
      "text/plain": [
       "Sector\n",
       "Aerospace & Defense              20\n",
       "Apparel                          15\n",
       "Business Services                51\n",
       "Chemicals                        30\n",
       "Energy                          122\n",
       "Engineering & Construction       26\n",
       "Financials                      139\n",
       "Food and Drug Stores             15\n",
       "Food, Beverages & Tobacco        43\n",
       "Health Care                      75\n",
       "Hotels, Resturants & Leisure     25\n",
       "Household Products               28\n",
       "Industrials                      46\n",
       "Materials                        43\n",
       "Media                            25\n",
       "Motor Vehicles & Parts           24\n",
       "Retailing                        80\n",
       "Technology                      102\n",
       "Telecommunications               15\n",
       "Transportation                   36\n",
       "Wholesalers                      40\n",
       "dtype: int64"
      ]
     },
     "execution_count": 14,
     "metadata": {},
     "output_type": "execute_result"
    }
   ],
   "source": [
    "sectors.size()"
   ]
  },
  {
   "cell_type": "code",
   "execution_count": 15,
   "metadata": {},
   "outputs": [
    {
     "data": {
      "text/plain": [
       "Financials                      139\n",
       "Energy                          122\n",
       "Technology                      102\n",
       "Retailing                        80\n",
       "Health Care                      75\n",
       "Business Services                51\n",
       "Industrials                      46\n",
       "Materials                        43\n",
       "Food, Beverages & Tobacco        43\n",
       "Wholesalers                      40\n",
       "Transportation                   36\n",
       "Chemicals                        30\n",
       "Household Products               28\n",
       "Engineering & Construction       26\n",
       "Media                            25\n",
       "Hotels, Resturants & Leisure     25\n",
       "Motor Vehicles & Parts           24\n",
       "Aerospace & Defense              20\n",
       "Apparel                          15\n",
       "Telecommunications               15\n",
       "Food and Drug Stores             15\n",
       "Name: Sector, dtype: int64"
      ]
     },
     "execution_count": 15,
     "metadata": {},
     "output_type": "execute_result"
    }
   ],
   "source": [
    "fortune[\"Sector\"].value_counts()"
   ]
  },
  {
   "cell_type": "code",
   "execution_count": 16,
   "metadata": {
    "collapsed": true
   },
   "outputs": [
    {
     "data": {
      "text/html": [
       "<div>\n",
       "<style>\n",
       "    .dataframe thead tr:only-child th {\n",
       "        text-align: right;\n",
       "    }\n",
       "\n",
       "    .dataframe thead th {\n",
       "        text-align: left;\n",
       "    }\n",
       "\n",
       "    .dataframe tbody tr th {\n",
       "        vertical-align: top;\n",
       "    }\n",
       "</style>\n",
       "<table border=\"1\" class=\"dataframe\">\n",
       "  <thead>\n",
       "    <tr style=\"text-align: right;\">\n",
       "      <th></th>\n",
       "      <th>Company</th>\n",
       "      <th>Industry</th>\n",
       "      <th>Location</th>\n",
       "      <th>Revenue</th>\n",
       "      <th>Profits</th>\n",
       "      <th>Employees</th>\n",
       "    </tr>\n",
       "    <tr>\n",
       "      <th>Sector</th>\n",
       "      <th></th>\n",
       "      <th></th>\n",
       "      <th></th>\n",
       "      <th></th>\n",
       "      <th></th>\n",
       "      <th></th>\n",
       "    </tr>\n",
       "  </thead>\n",
       "  <tbody>\n",
       "    <tr>\n",
       "      <th>Aerospace &amp; Defense</th>\n",
       "      <td>Boeing</td>\n",
       "      <td>Aerospace and Defense</td>\n",
       "      <td>Chicago, IL</td>\n",
       "      <td>96114</td>\n",
       "      <td>5176</td>\n",
       "      <td>161400</td>\n",
       "    </tr>\n",
       "    <tr>\n",
       "      <th>Apparel</th>\n",
       "      <td>Nike</td>\n",
       "      <td>Apparel</td>\n",
       "      <td>Beaverton, OR</td>\n",
       "      <td>30601</td>\n",
       "      <td>3273</td>\n",
       "      <td>62600</td>\n",
       "    </tr>\n",
       "    <tr>\n",
       "      <th>Business Services</th>\n",
       "      <td>ManpowerGroup</td>\n",
       "      <td>Temporary Help</td>\n",
       "      <td>Milwaukee, WI</td>\n",
       "      <td>19330</td>\n",
       "      <td>419</td>\n",
       "      <td>27000</td>\n",
       "    </tr>\n",
       "    <tr>\n",
       "      <th>Chemicals</th>\n",
       "      <td>Dow Chemical</td>\n",
       "      <td>Chemicals</td>\n",
       "      <td>Midland, MI</td>\n",
       "      <td>48778</td>\n",
       "      <td>7685</td>\n",
       "      <td>49495</td>\n",
       "    </tr>\n",
       "    <tr>\n",
       "      <th>Energy</th>\n",
       "      <td>Exxon Mobil</td>\n",
       "      <td>Petroleum Refining</td>\n",
       "      <td>Irving, TX</td>\n",
       "      <td>246204</td>\n",
       "      <td>16150</td>\n",
       "      <td>75600</td>\n",
       "    </tr>\n",
       "    <tr>\n",
       "      <th>Engineering &amp; Construction</th>\n",
       "      <td>Fluor</td>\n",
       "      <td>Engineering, Construction</td>\n",
       "      <td>Irving, TX</td>\n",
       "      <td>18114</td>\n",
       "      <td>413</td>\n",
       "      <td>38758</td>\n",
       "    </tr>\n",
       "    <tr>\n",
       "      <th>Financials</th>\n",
       "      <td>Berkshire Hathaway</td>\n",
       "      <td>Insurance: Property and Casualty (Stock)</td>\n",
       "      <td>Omaha, NE</td>\n",
       "      <td>210821</td>\n",
       "      <td>24083</td>\n",
       "      <td>331000</td>\n",
       "    </tr>\n",
       "    <tr>\n",
       "      <th>Food and Drug Stores</th>\n",
       "      <td>CVS Health</td>\n",
       "      <td>Food and Drug Stores</td>\n",
       "      <td>Woonsocket, RI</td>\n",
       "      <td>153290</td>\n",
       "      <td>5237</td>\n",
       "      <td>199000</td>\n",
       "    </tr>\n",
       "    <tr>\n",
       "      <th>Food, Beverages &amp; Tobacco</th>\n",
       "      <td>Archer Daniels Midland</td>\n",
       "      <td>Food Production</td>\n",
       "      <td>Chicago, IL</td>\n",
       "      <td>67702</td>\n",
       "      <td>1849</td>\n",
       "      <td>32300</td>\n",
       "    </tr>\n",
       "    <tr>\n",
       "      <th>Health Care</th>\n",
       "      <td>McKesson</td>\n",
       "      <td>Wholesalers: Health Care</td>\n",
       "      <td>San Francisco, CA</td>\n",
       "      <td>181241</td>\n",
       "      <td>1476</td>\n",
       "      <td>70400</td>\n",
       "    </tr>\n",
       "    <tr>\n",
       "      <th>Hotels, Resturants &amp; Leisure</th>\n",
       "      <td>McDonald’s</td>\n",
       "      <td>Food Services</td>\n",
       "      <td>Oak Brook, IL</td>\n",
       "      <td>25413</td>\n",
       "      <td>4529</td>\n",
       "      <td>420000</td>\n",
       "    </tr>\n",
       "    <tr>\n",
       "      <th>Household Products</th>\n",
       "      <td>Procter &amp; Gamble</td>\n",
       "      <td>Household and Personal Products</td>\n",
       "      <td>Cincinnati, OH</td>\n",
       "      <td>78756</td>\n",
       "      <td>7036</td>\n",
       "      <td>110000</td>\n",
       "    </tr>\n",
       "    <tr>\n",
       "      <th>Industrials</th>\n",
       "      <td>General Electric</td>\n",
       "      <td>Industrial Machinery</td>\n",
       "      <td>Fairfield, CT</td>\n",
       "      <td>140389</td>\n",
       "      <td>-6126</td>\n",
       "      <td>333000</td>\n",
       "    </tr>\n",
       "    <tr>\n",
       "      <th>Materials</th>\n",
       "      <td>Alcoa</td>\n",
       "      <td>Metals</td>\n",
       "      <td>New York, NY</td>\n",
       "      <td>22534</td>\n",
       "      <td>-322</td>\n",
       "      <td>60000</td>\n",
       "    </tr>\n",
       "    <tr>\n",
       "      <th>Media</th>\n",
       "      <td>Disney</td>\n",
       "      <td>Entertainment</td>\n",
       "      <td>Burbank, CA</td>\n",
       "      <td>52465</td>\n",
       "      <td>8382</td>\n",
       "      <td>185000</td>\n",
       "    </tr>\n",
       "    <tr>\n",
       "      <th>Motor Vehicles &amp; Parts</th>\n",
       "      <td>General Motors</td>\n",
       "      <td>Motor Vehicles and Parts</td>\n",
       "      <td>Detroit, MI</td>\n",
       "      <td>152356</td>\n",
       "      <td>9687</td>\n",
       "      <td>215000</td>\n",
       "    </tr>\n",
       "    <tr>\n",
       "      <th>Retailing</th>\n",
       "      <td>Walmart</td>\n",
       "      <td>General Merchandisers</td>\n",
       "      <td>Bentonville, AR</td>\n",
       "      <td>482130</td>\n",
       "      <td>14694</td>\n",
       "      <td>2300000</td>\n",
       "    </tr>\n",
       "    <tr>\n",
       "      <th>Technology</th>\n",
       "      <td>Apple</td>\n",
       "      <td>Computers, Office Equipment</td>\n",
       "      <td>Cupertino, CA</td>\n",
       "      <td>233715</td>\n",
       "      <td>53394</td>\n",
       "      <td>110000</td>\n",
       "    </tr>\n",
       "    <tr>\n",
       "      <th>Telecommunications</th>\n",
       "      <td>AT&amp;T</td>\n",
       "      <td>Telecommunications</td>\n",
       "      <td>Dallas, TX</td>\n",
       "      <td>146801</td>\n",
       "      <td>13345</td>\n",
       "      <td>281450</td>\n",
       "    </tr>\n",
       "    <tr>\n",
       "      <th>Transportation</th>\n",
       "      <td>UPS</td>\n",
       "      <td>Mail, Package, and Freight Delivery</td>\n",
       "      <td>Atlanta, GA</td>\n",
       "      <td>58363</td>\n",
       "      <td>4844</td>\n",
       "      <td>341240</td>\n",
       "    </tr>\n",
       "    <tr>\n",
       "      <th>Wholesalers</th>\n",
       "      <td>Sysco</td>\n",
       "      <td>Wholesalers: Food and Grocery</td>\n",
       "      <td>Houston, TX</td>\n",
       "      <td>48681</td>\n",
       "      <td>687</td>\n",
       "      <td>51700</td>\n",
       "    </tr>\n",
       "  </tbody>\n",
       "</table>\n",
       "</div>"
      ],
      "text/plain": [
       "                                             Company  \\\n",
       "Sector                                                 \n",
       "Aerospace & Defense                           Boeing   \n",
       "Apparel                                         Nike   \n",
       "Business Services                      ManpowerGroup   \n",
       "Chemicals                               Dow Chemical   \n",
       "Energy                                   Exxon Mobil   \n",
       "Engineering & Construction                     Fluor   \n",
       "Financials                        Berkshire Hathaway   \n",
       "Food and Drug Stores                      CVS Health   \n",
       "Food, Beverages & Tobacco     Archer Daniels Midland   \n",
       "Health Care                                 McKesson   \n",
       "Hotels, Resturants & Leisure              McDonald’s   \n",
       "Household Products                  Procter & Gamble   \n",
       "Industrials                         General Electric   \n",
       "Materials                                      Alcoa   \n",
       "Media                                         Disney   \n",
       "Motor Vehicles & Parts                General Motors   \n",
       "Retailing                                    Walmart   \n",
       "Technology                                     Apple   \n",
       "Telecommunications                              AT&T   \n",
       "Transportation                                   UPS   \n",
       "Wholesalers                                    Sysco   \n",
       "\n",
       "                                                              Industry  \\\n",
       "Sector                                                                   \n",
       "Aerospace & Defense                              Aerospace and Defense   \n",
       "Apparel                                                        Apparel   \n",
       "Business Services                                       Temporary Help   \n",
       "Chemicals                                                    Chemicals   \n",
       "Energy                                              Petroleum Refining   \n",
       "Engineering & Construction                   Engineering, Construction   \n",
       "Financials                    Insurance: Property and Casualty (Stock)   \n",
       "Food and Drug Stores                              Food and Drug Stores   \n",
       "Food, Beverages & Tobacco                              Food Production   \n",
       "Health Care                                   Wholesalers: Health Care   \n",
       "Hotels, Resturants & Leisure                             Food Services   \n",
       "Household Products                     Household and Personal Products   \n",
       "Industrials                                       Industrial Machinery   \n",
       "Materials                                                       Metals   \n",
       "Media                                                    Entertainment   \n",
       "Motor Vehicles & Parts                        Motor Vehicles and Parts   \n",
       "Retailing                                        General Merchandisers   \n",
       "Technology                                 Computers, Office Equipment   \n",
       "Telecommunications                                  Telecommunications   \n",
       "Transportation                     Mail, Package, and Freight Delivery   \n",
       "Wholesalers                              Wholesalers: Food and Grocery   \n",
       "\n",
       "                                       Location  Revenue  Profits  Employees  \n",
       "Sector                                                                        \n",
       "Aerospace & Defense                 Chicago, IL    96114     5176     161400  \n",
       "Apparel                           Beaverton, OR    30601     3273      62600  \n",
       "Business Services                 Milwaukee, WI    19330      419      27000  \n",
       "Chemicals                           Midland, MI    48778     7685      49495  \n",
       "Energy                               Irving, TX   246204    16150      75600  \n",
       "Engineering & Construction           Irving, TX    18114      413      38758  \n",
       "Financials                            Omaha, NE   210821    24083     331000  \n",
       "Food and Drug Stores             Woonsocket, RI   153290     5237     199000  \n",
       "Food, Beverages & Tobacco           Chicago, IL    67702     1849      32300  \n",
       "Health Care                   San Francisco, CA   181241     1476      70400  \n",
       "Hotels, Resturants & Leisure      Oak Brook, IL    25413     4529     420000  \n",
       "Household Products               Cincinnati, OH    78756     7036     110000  \n",
       "Industrials                       Fairfield, CT   140389    -6126     333000  \n",
       "Materials                          New York, NY    22534     -322      60000  \n",
       "Media                               Burbank, CA    52465     8382     185000  \n",
       "Motor Vehicles & Parts              Detroit, MI   152356     9687     215000  \n",
       "Retailing                       Bentonville, AR   482130    14694    2300000  \n",
       "Technology                        Cupertino, CA   233715    53394     110000  \n",
       "Telecommunications                   Dallas, TX   146801    13345     281450  \n",
       "Transportation                      Atlanta, GA    58363     4844     341240  \n",
       "Wholesalers                         Houston, TX    48681      687      51700  "
      ]
     },
     "execution_count": 16,
     "metadata": {},
     "output_type": "execute_result"
    }
   ],
   "source": [
    "sectors.first()"
   ]
  },
  {
   "cell_type": "code",
   "execution_count": 26,
   "metadata": {},
   "outputs": [
    {
     "data": {
      "text/plain": [
       "{'Aerospace & Defense': Int64Index([ 24,  45,  60,  88, 118, 120, 209, 245, 282, 378, 389, 490, 560,\n",
       "             605, 785, 788, 836, 903, 958, 987],\n",
       "            dtype='int64', name='Rank'),\n",
       " 'Apparel': Int64Index([91, 231, 340, 354, 448, 547, 575, 597, 683, 695, 726, 794, 877,\n",
       "             882, 917],\n",
       "            dtype='int64', name='Rank'),\n",
       " 'Business Services': Int64Index([144, 186, 199, 204, 221, 248, 249, 294, 307, 312, 355, 392, 404,\n",
       "             440, 467, 468, 481, 485, 492, 503, 545, 626, 635, 652, 677, 694,\n",
       "             714, 729, 734, 735, 737, 744, 767, 776, 777, 783, 791, 792, 796,\n",
       "             801, 803, 816, 819, 820, 869, 870, 886, 939, 951, 952, 993],\n",
       "            dtype='int64', name='Rank'),\n",
       " 'Chemicals': Int64Index([ 56, 101, 182, 189, 206, 253, 262, 277, 288, 296, 316, 538, 549,\n",
       "             555, 566, 580, 613, 624, 654, 668, 717, 720, 724, 758, 761, 829,\n",
       "             865, 898, 934, 949],\n",
       "            dtype='int64', name='Rank'),\n",
       " 'Energy': Int64Index([  2,  14,  30,  32,  42,  65,  90,  95,  98, 104,\n",
       "             ...\n",
       "             953, 955, 962, 966, 980, 981, 983, 995, 997, 997],\n",
       "            dtype='int64', name='Rank', length=122),\n",
       " 'Engineering & Construction': Int64Index([155, 156, 235, 260, 301, 314, 352, 381, 433, 478, 498, 501, 516,\n",
       "             572, 576, 640, 719, 738, 822, 863, 874, 892, 929, 963, 985, 994],\n",
       "            dtype='int64', name='Rank'),\n",
       " 'Financials': Int64Index([  4,  16,  23,  26,  27,  29,  35,  40,  43,  49,\n",
       "             ...\n",
       "             920, 923, 925, 926, 936, 938, 959, 976, 988, 996],\n",
       "            dtype='int64', name='Rank', length=139),\n",
       " 'Food and Drug Stores': Int64Index([7, 17, 19, 87, 107, 160, 181, 595, 614, 631, 669, 756, 809, 849,\n",
       "             928],\n",
       "            dtype='int64', name='Rank'),\n",
       " 'Food, Beverages & Tobacco': Int64Index([ 41,  44,  62,  66,  84,  94, 106, 149, 153, 161, 176, 207, 215,\n",
       "             242, 266, 304, 336, 337, 362, 397, 413, 429, 452, 456, 460, 535,\n",
       "             542, 567, 574, 587, 608, 615, 636, 664, 686, 702, 770, 787, 795,\n",
       "             804, 889, 902, 954],\n",
       "            dtype='int64', name='Rank'),\n",
       " 'Health Care': Int64Index([  5,   6,  12,  21,  22,  33,  39,  46,  52,  55,  63,  72,  79,\n",
       "              86, 123, 124, 125, 130, 138, 140, 141, 168, 172, 200, 201, 202,\n",
       "             263, 268, 278, 286, 287, 290, 291, 305, 325, 358, 359, 372, 420,\n",
       "             430, 431, 447, 457, 465, 469, 515, 527, 537, 553, 559, 583, 618,\n",
       "             629, 661, 684, 693, 697, 708, 746, 749, 766, 775, 790, 799, 815,\n",
       "             818, 845, 868, 881, 883, 935, 960, 965, 977, 978],\n",
       "            dtype='int64', name='Rank'),\n",
       " 'Hotels, Resturants & Leisure': Int64Index([109, 146, 195, 218, 241, 254, 309, 371, 444, 466, 534, 546, 557,\n",
       "             562, 585, 731, 763, 764, 779, 797, 895, 915, 918, 941, 999],\n",
       "            dtype='int64', name='Rank'),\n",
       " 'Household Products': Int64Index([ 34, 151, 174, 256, 261, 328, 338, 345, 370, 434, 441, 450, 455,\n",
       "             533, 550, 554, 601, 665, 699, 716, 856, 890, 900, 907, 932, 950,\n",
       "             967, 992],\n",
       "            dtype='int64', name='Rank'),\n",
       " 'Industrials': Int64Index([  11,   59,   75,   93,   97,  128,  134,  148,  211,  224,  360,\n",
       "              377,  396,  412,  419,  539,  544,  596,  622,  623,  630,  645,\n",
       "              655,  658,  666,  674,  690,  757,  782,  789,  806,  813,  823,\n",
       "              831,  832,  835,  841,  847,  866,  867,  873,  887,  942,  947,\n",
       "              964, 1000],\n",
       "            dtype='int64', name='Rank'),\n",
       " 'Materials': Int64Index([126, 127, 170, 244, 251, 303, 321, 341, 356, 373, 375, 383, 417,\n",
       "             418, 426, 435, 446, 480, 489, 514, 518, 577, 586, 616, 617, 620,\n",
       "             625, 628, 637, 639, 641, 660, 667, 687, 691, 751, 774, 793, 857,\n",
       "             885, 911, 982, 986],\n",
       "            dtype='int64', name='Rank'),\n",
       " 'Media': Int64Index([ 53,  96,  99, 203, 213, 255, 327, 366, 406, 414, 525, 530, 681,\n",
       "             705, 707, 722, 741, 752, 759, 762, 821, 913, 968, 969, 989],\n",
       "            dtype='int64', name='Rank'),\n",
       " 'Motor Vehicles & Parts': Int64Index([  8,   9,  70, 147, 154, 169, 281, 310, 334, 339, 424, 428, 470,\n",
       "             588, 591, 604, 647, 670, 718, 739, 811, 957, 961, 979],\n",
       "            dtype='int64', name='Rank'),\n",
       " 'Retailing': Int64Index([  1,  15,  28,  38,  47,  71,  89, 103, 111, 132, 136, 139, 143,\n",
       "             145, 177, 180, 191, 196, 197, 228, 234, 237, 238, 240, 258, 267,\n",
       "             269, 280, 293, 297, 299, 302, 330, 342, 346, 361, 365, 374, 379,\n",
       "             380, 393, 415, 427, 439, 495, 500, 502, 511, 512, 517, 523, 582,\n",
       "             592, 602, 607, 610, 621, 643, 644, 648, 657, 675, 689, 721, 748,\n",
       "             771, 773, 807, 812, 824, 825, 827, 840, 876, 894, 899, 922, 937,\n",
       "             940, 973],\n",
       "            dtype='int64', name='Rank'),\n",
       " 'Technology': Int64Index([  3,  18,  20,  25,  31,  36,  51,  54,  77, 110,\n",
       "             ...\n",
       "             931, 943, 944, 946, 956, 970, 971, 975, 984, 990],\n",
       "            dtype='int64', name='Rank', length=102),\n",
       " 'Telecommunications': Int64Index([10, 13, 37, 116, 159, 187, 292, 333, 399, 443, 461, 496, 526, 619,\n",
       "             786],\n",
       "            dtype='int64', name='Rank'),\n",
       " 'Transportation': Int64Index([ 48,  58,  67,  68,  80, 129, 142, 208, 239, 270, 353, 390, 395,\n",
       "             405, 407, 416, 432, 459, 521, 528, 570, 578, 642, 672, 709, 713,\n",
       "             740, 800, 814, 858, 884, 930, 933, 945, 972, 974],\n",
       "            dtype='int64', name='Rank'),\n",
       " 'Wholesalers': Int64Index([ 57,  64,  92, 102, 108, 119, 122, 167, 183, 185, 212, 276, 285,\n",
       "             315, 317, 320, 323, 335, 351, 357, 369, 391, 423, 463, 474, 477,\n",
       "             484, 564, 581, 599, 627, 653, 685, 727, 747, 780, 808, 837, 875,\n",
       "             991],\n",
       "            dtype='int64', name='Rank')}"
      ]
     },
     "execution_count": 26,
     "metadata": {},
     "output_type": "execute_result"
    }
   ],
   "source": [
    "sectors.groups"
   ]
  },
  {
   "cell_type": "code",
   "execution_count": 27,
   "metadata": {},
   "outputs": [
    {
     "data": {
      "text/plain": [
       "Company                     Boeing\n",
       "Sector         Aerospace & Defense\n",
       "Industry     Aerospace and Defense\n",
       "Location               Chicago, IL\n",
       "Revenue                      96114\n",
       "Profits                       5176\n",
       "Employees                   161400\n",
       "Name: 24, dtype: object"
      ]
     },
     "execution_count": 27,
     "metadata": {},
     "output_type": "execute_result"
    }
   ],
   "source": [
    "fortune.loc[24]"
   ]
  },
  {
   "cell_type": "code",
   "execution_count": null,
   "metadata": {
    "collapsed": true
   },
   "outputs": [],
   "source": []
  }
 ],
 "metadata": {
  "kernelspec": {
   "display_name": "Python 3",
   "language": "python",
   "name": "python3"
  },
  "language_info": {
   "codemirror_mode": {
    "name": "ipython",
    "version": 3
   },
   "file_extension": ".py",
   "mimetype": "text/x-python",
   "name": "python",
   "nbconvert_exporter": "python",
   "pygments_lexer": "ipython3",
   "version": "3.6.2"
  }
 },
 "nbformat": 4,
 "nbformat_minor": 2
}
