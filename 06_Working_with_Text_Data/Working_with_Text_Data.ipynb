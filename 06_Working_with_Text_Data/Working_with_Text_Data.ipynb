{
 "cells": [
  {
   "cell_type": "markdown",
   "metadata": {},
   "source": [
    "# Working with Text Data"
   ]
  },
  {
   "cell_type": "markdown",
   "metadata": {},
   "source": [
    "### 1. Intro to the Working with Text Data Module"
   ]
  },
  {
   "cell_type": "code",
   "execution_count": 1,
   "metadata": {
    "collapsed": true
   },
   "outputs": [],
   "source": [
    "import pandas as pd"
   ]
  },
  {
   "cell_type": "code",
   "execution_count": 10,
   "metadata": {},
   "outputs": [
    {
     "data": {
      "text/html": [
       "<div>\n",
       "<style>\n",
       "    .dataframe thead tr:only-child th {\n",
       "        text-align: right;\n",
       "    }\n",
       "\n",
       "    .dataframe thead th {\n",
       "        text-align: left;\n",
       "    }\n",
       "\n",
       "    .dataframe tbody tr th {\n",
       "        vertical-align: top;\n",
       "    }\n",
       "</style>\n",
       "<table border=\"1\" class=\"dataframe\">\n",
       "  <thead>\n",
       "    <tr style=\"text-align: right;\">\n",
       "      <th></th>\n",
       "      <th>Name</th>\n",
       "      <th>Position Title</th>\n",
       "      <th>Department</th>\n",
       "      <th>Employee Annual Salary</th>\n",
       "    </tr>\n",
       "  </thead>\n",
       "  <tbody>\n",
       "    <tr>\n",
       "      <th>0</th>\n",
       "      <td>AARON,  ELVIA J</td>\n",
       "      <td>WATER RATE TAKER</td>\n",
       "      <td>WATER MGMNT</td>\n",
       "      <td>$90744.00</td>\n",
       "    </tr>\n",
       "    <tr>\n",
       "      <th>1</th>\n",
       "      <td>AARON,  JEFFERY M</td>\n",
       "      <td>POLICE OFFICER</td>\n",
       "      <td>POLICE</td>\n",
       "      <td>$84450.00</td>\n",
       "    </tr>\n",
       "    <tr>\n",
       "      <th>2</th>\n",
       "      <td>AARON,  KARINA</td>\n",
       "      <td>POLICE OFFICER</td>\n",
       "      <td>POLICE</td>\n",
       "      <td>$84450.00</td>\n",
       "    </tr>\n",
       "    <tr>\n",
       "      <th>3</th>\n",
       "      <td>AARON,  KIMBERLEI R</td>\n",
       "      <td>CHIEF CONTRACT EXPEDITER</td>\n",
       "      <td>GENERAL SERVICES</td>\n",
       "      <td>$89880.00</td>\n",
       "    </tr>\n",
       "    <tr>\n",
       "      <th>4</th>\n",
       "      <td>ABAD JR,  VICENTE M</td>\n",
       "      <td>CIVIL ENGINEER IV</td>\n",
       "      <td>WATER MGMNT</td>\n",
       "      <td>$106836.00</td>\n",
       "    </tr>\n",
       "  </tbody>\n",
       "</table>\n",
       "</div>"
      ],
      "text/plain": [
       "                  Name            Position Title        Department  \\\n",
       "0      AARON,  ELVIA J          WATER RATE TAKER       WATER MGMNT   \n",
       "1    AARON,  JEFFERY M            POLICE OFFICER            POLICE   \n",
       "2       AARON,  KARINA            POLICE OFFICER            POLICE   \n",
       "3  AARON,  KIMBERLEI R  CHIEF CONTRACT EXPEDITER  GENERAL SERVICES   \n",
       "4  ABAD JR,  VICENTE M         CIVIL ENGINEER IV       WATER MGMNT   \n",
       "\n",
       "  Employee Annual Salary  \n",
       "0              $90744.00  \n",
       "1              $84450.00  \n",
       "2              $84450.00  \n",
       "3              $89880.00  \n",
       "4             $106836.00  "
      ]
     },
     "execution_count": 10,
     "metadata": {},
     "output_type": "execute_result"
    }
   ],
   "source": [
    "chicago = pd.read_csv(\"../00_Datasers/chicago.csv\")\n",
    "chicago[\"Department\"] = chicago[\"Department\"].astype(\"category\")\n",
    "chicago.head()"
   ]
  },
  {
   "cell_type": "code",
   "execution_count": 11,
   "metadata": {},
   "outputs": [
    {
     "name": "stdout",
     "output_type": "stream",
     "text": [
      "<class 'pandas.core.frame.DataFrame'>\n",
      "RangeIndex: 32063 entries, 0 to 32062\n",
      "Data columns (total 4 columns):\n",
      "Name                      32062 non-null object\n",
      "Position Title            32062 non-null object\n",
      "Department                32062 non-null category\n",
      "Employee Annual Salary    32062 non-null object\n",
      "dtypes: category(1), object(3)\n",
      "memory usage: 784.4+ KB\n"
     ]
    }
   ],
   "source": [
    "chicago.info()"
   ]
  },
  {
   "cell_type": "code",
   "execution_count": 6,
   "metadata": {},
   "outputs": [
    {
     "data": {
      "text/plain": [
       "35"
      ]
     },
     "execution_count": 6,
     "metadata": {},
     "output_type": "execute_result"
    }
   ],
   "source": [
    "chicago[\"Department\"].nunique()"
   ]
  },
  {
   "cell_type": "code",
   "execution_count": 7,
   "metadata": {},
   "outputs": [
    {
     "data": {
      "text/plain": [
       "32062"
      ]
     },
     "execution_count": 7,
     "metadata": {},
     "output_type": "execute_result"
    }
   ],
   "source": [
    "chicago[\"Department\"].count()"
   ]
  },
  {
   "cell_type": "markdown",
   "metadata": {},
   "source": [
    "### 2. Common String Methods - .lower(), .upper(), .title() and .len()"
   ]
  },
  {
   "cell_type": "code",
   "execution_count": 12,
   "metadata": {},
   "outputs": [
    {
     "data": {
      "text/html": [
       "<div>\n",
       "<style>\n",
       "    .dataframe thead tr:only-child th {\n",
       "        text-align: right;\n",
       "    }\n",
       "\n",
       "    .dataframe thead th {\n",
       "        text-align: left;\n",
       "    }\n",
       "\n",
       "    .dataframe tbody tr th {\n",
       "        vertical-align: top;\n",
       "    }\n",
       "</style>\n",
       "<table border=\"1\" class=\"dataframe\">\n",
       "  <thead>\n",
       "    <tr style=\"text-align: right;\">\n",
       "      <th></th>\n",
       "      <th>Name</th>\n",
       "      <th>Position Title</th>\n",
       "      <th>Department</th>\n",
       "      <th>Employee Annual Salary</th>\n",
       "    </tr>\n",
       "  </thead>\n",
       "  <tbody>\n",
       "    <tr>\n",
       "      <th>0</th>\n",
       "      <td>AARON,  ELVIA J</td>\n",
       "      <td>WATER RATE TAKER</td>\n",
       "      <td>WATER MGMNT</td>\n",
       "      <td>$90744.00</td>\n",
       "    </tr>\n",
       "    <tr>\n",
       "      <th>1</th>\n",
       "      <td>AARON,  JEFFERY M</td>\n",
       "      <td>POLICE OFFICER</td>\n",
       "      <td>POLICE</td>\n",
       "      <td>$84450.00</td>\n",
       "    </tr>\n",
       "    <tr>\n",
       "      <th>2</th>\n",
       "      <td>AARON,  KARINA</td>\n",
       "      <td>POLICE OFFICER</td>\n",
       "      <td>POLICE</td>\n",
       "      <td>$84450.00</td>\n",
       "    </tr>\n",
       "    <tr>\n",
       "      <th>3</th>\n",
       "      <td>AARON,  KIMBERLEI R</td>\n",
       "      <td>CHIEF CONTRACT EXPEDITER</td>\n",
       "      <td>GENERAL SERVICES</td>\n",
       "      <td>$89880.00</td>\n",
       "    </tr>\n",
       "    <tr>\n",
       "      <th>4</th>\n",
       "      <td>ABAD JR,  VICENTE M</td>\n",
       "      <td>CIVIL ENGINEER IV</td>\n",
       "      <td>WATER MGMNT</td>\n",
       "      <td>$106836.00</td>\n",
       "    </tr>\n",
       "  </tbody>\n",
       "</table>\n",
       "</div>"
      ],
      "text/plain": [
       "                  Name            Position Title        Department  \\\n",
       "0      AARON,  ELVIA J          WATER RATE TAKER       WATER MGMNT   \n",
       "1    AARON,  JEFFERY M            POLICE OFFICER            POLICE   \n",
       "2       AARON,  KARINA            POLICE OFFICER            POLICE   \n",
       "3  AARON,  KIMBERLEI R  CHIEF CONTRACT EXPEDITER  GENERAL SERVICES   \n",
       "4  ABAD JR,  VICENTE M         CIVIL ENGINEER IV       WATER MGMNT   \n",
       "\n",
       "  Employee Annual Salary  \n",
       "0              $90744.00  \n",
       "1              $84450.00  \n",
       "2              $84450.00  \n",
       "3              $89880.00  \n",
       "4             $106836.00  "
      ]
     },
     "execution_count": 12,
     "metadata": {},
     "output_type": "execute_result"
    }
   ],
   "source": [
    "chicago = pd.read_csv(\"../00_Datasers/chicago.csv\")\n",
    "chicago[\"Department\"] = chicago[\"Department\"].astype(\"category\")\n",
    "chicago.head()"
   ]
  },
  {
   "cell_type": "code",
   "execution_count": 13,
   "metadata": {},
   "outputs": [
    {
     "data": {
      "text/plain": [
       "'hello world'"
      ]
     },
     "execution_count": 13,
     "metadata": {},
     "output_type": "execute_result"
    }
   ],
   "source": [
    "\"HELLO WORLD\".lower()"
   ]
  },
  {
   "cell_type": "code",
   "execution_count": 14,
   "metadata": {},
   "outputs": [
    {
     "data": {
      "text/plain": [
       "'HELLO WORLD'"
      ]
     },
     "execution_count": 14,
     "metadata": {},
     "output_type": "execute_result"
    }
   ],
   "source": [
    "\"hello world\".upper()"
   ]
  },
  {
   "cell_type": "code",
   "execution_count": 15,
   "metadata": {},
   "outputs": [
    {
     "data": {
      "text/plain": [
       "'Hello World'"
      ]
     },
     "execution_count": 15,
     "metadata": {},
     "output_type": "execute_result"
    }
   ],
   "source": [
    "\"hello world\".title()"
   ]
  },
  {
   "cell_type": "code",
   "execution_count": 16,
   "metadata": {},
   "outputs": [
    {
     "data": {
      "text/plain": [
       "11"
      ]
     },
     "execution_count": 16,
     "metadata": {},
     "output_type": "execute_result"
    }
   ],
   "source": [
    "len(\"hello world\")"
   ]
  },
  {
   "cell_type": "code",
   "execution_count": 21,
   "metadata": {
    "collapsed": true
   },
   "outputs": [
    {
     "data": {
      "text/plain": [
       "0                 aaron,  elvia j\n",
       "1               aaron,  jeffery m\n",
       "2                  aaron,  karina\n",
       "3             aaron,  kimberlei r\n",
       "4             abad jr,  vicente m\n",
       "5                 abarca,  anabel\n",
       "6               abarca,  emmanuel\n",
       "7               abascal,  reece e\n",
       "8            abbasi,  christopher\n",
       "9           abbatacola,  robert j\n",
       "10          abbatemarco,  james j\n",
       "11               abbate,  terry m\n",
       "12               abbott,  betty l\n",
       "13              abbott,  lynise m\n",
       "14         abbruzzese,  william j\n",
       "15                abdallah,  zaid\n",
       "16          abdelhadi,  abdalmahd\n",
       "17            abdellatif,  aref r\n",
       "18             abdelmajeid,  aziz\n",
       "19            abdollahzadeh,  ali\n",
       "20       abdul-karim,  muhammad a\n",
       "21            abdullah,  daniel n\n",
       "22               abdullah,  kevin\n",
       "23           abdullah,  lakenya n\n",
       "24            abdullah,  rashad j\n",
       "25           abdulsattar,  mudhar\n",
       "26           abdul-shakur,  tahir\n",
       "27         abdulwahab,  abuubaida\n",
       "28              abejero,  jason v\n",
       "29        abercrombie iv,  earl s\n",
       "                   ...           \n",
       "32033             zuniga,  juan m\n",
       "32034              zuniga,  oscar\n",
       "32035             zuniga,  ronald\n",
       "32036             zuniga,  thomas\n",
       "32037            zuniga,  vicente\n",
       "32038                 zuno,  erik\n",
       "32039              zupan,  bill m\n",
       "32040            zupancic,  kelly\n",
       "32041          zurawski,  carol a\n",
       "32042          zurawski,  jeffrey\n",
       "32043            zurawski,  mac z\n",
       "32044           zurawski,  mary e\n",
       "32045             zurek,  francis\n",
       "32046              zurek,  mary h\n",
       "32047             zurita,  adriel\n",
       "32048             zvanja,  tina m\n",
       "32049      zwarycz mann,  irene a\n",
       "32050          zwarycz,  thomas j\n",
       "32051          zwiesler,  matthew\n",
       "32052            zwit,  jeffrey j\n",
       "32053         zwolfer,  matthew w\n",
       "32054              zych,  mateusz\n",
       "32055               zydek,  bryan\n",
       "32056            zygadlo,  john p\n",
       "32057         zygadlo,  michael j\n",
       "32058          zygowicz,  peter j\n",
       "32059           zymantas,  mark e\n",
       "32060         zyrkowski,  carlo e\n",
       "32061         zyskowski,  dariusz\n",
       "32062                         NaN\n",
       "Name: Name, Length: 32063, dtype: object"
      ]
     },
     "execution_count": 21,
     "metadata": {},
     "output_type": "execute_result"
    }
   ],
   "source": [
    "chicago[\"Name\"].str.lower()"
   ]
  },
  {
   "cell_type": "code",
   "execution_count": 22,
   "metadata": {
    "collapsed": true
   },
   "outputs": [
    {
     "data": {
      "text/plain": [
       "0                 Aaron,  Elvia J\n",
       "1               Aaron,  Jeffery M\n",
       "2                  Aaron,  Karina\n",
       "3             Aaron,  Kimberlei R\n",
       "4             Abad Jr,  Vicente M\n",
       "5                 Abarca,  Anabel\n",
       "6               Abarca,  Emmanuel\n",
       "7               Abascal,  Reece E\n",
       "8            Abbasi,  Christopher\n",
       "9           Abbatacola,  Robert J\n",
       "10          Abbatemarco,  James J\n",
       "11               Abbate,  Terry M\n",
       "12               Abbott,  Betty L\n",
       "13              Abbott,  Lynise M\n",
       "14         Abbruzzese,  William J\n",
       "15                Abdallah,  Zaid\n",
       "16          Abdelhadi,  Abdalmahd\n",
       "17            Abdellatif,  Aref R\n",
       "18             Abdelmajeid,  Aziz\n",
       "19            Abdollahzadeh,  Ali\n",
       "20       Abdul-Karim,  Muhammad A\n",
       "21            Abdullah,  Daniel N\n",
       "22               Abdullah,  Kevin\n",
       "23           Abdullah,  Lakenya N\n",
       "24            Abdullah,  Rashad J\n",
       "25           Abdulsattar,  Mudhar\n",
       "26           Abdul-Shakur,  Tahir\n",
       "27         Abdulwahab,  Abuubaida\n",
       "28              Abejero,  Jason V\n",
       "29        Abercrombie Iv,  Earl S\n",
       "                   ...           \n",
       "32033             Zuniga,  Juan M\n",
       "32034              Zuniga,  Oscar\n",
       "32035             Zuniga,  Ronald\n",
       "32036             Zuniga,  Thomas\n",
       "32037            Zuniga,  Vicente\n",
       "32038                 Zuno,  Erik\n",
       "32039              Zupan,  Bill M\n",
       "32040            Zupancic,  Kelly\n",
       "32041          Zurawski,  Carol A\n",
       "32042          Zurawski,  Jeffrey\n",
       "32043            Zurawski,  Mac Z\n",
       "32044           Zurawski,  Mary E\n",
       "32045             Zurek,  Francis\n",
       "32046              Zurek,  Mary H\n",
       "32047             Zurita,  Adriel\n",
       "32048             Zvanja,  Tina M\n",
       "32049      Zwarycz Mann,  Irene A\n",
       "32050          Zwarycz,  Thomas J\n",
       "32051          Zwiesler,  Matthew\n",
       "32052            Zwit,  Jeffrey J\n",
       "32053         Zwolfer,  Matthew W\n",
       "32054              Zych,  Mateusz\n",
       "32055               Zydek,  Bryan\n",
       "32056            Zygadlo,  John P\n",
       "32057         Zygadlo,  Michael J\n",
       "32058          Zygowicz,  Peter J\n",
       "32059           Zymantas,  Mark E\n",
       "32060         Zyrkowski,  Carlo E\n",
       "32061         Zyskowski,  Dariusz\n",
       "32062                         NaN\n",
       "Name: Name, Length: 32063, dtype: object"
      ]
     },
     "execution_count": 22,
     "metadata": {},
     "output_type": "execute_result"
    }
   ],
   "source": [
    "chicago[\"Name\"].str.title()"
   ]
  },
  {
   "cell_type": "code",
   "execution_count": 24,
   "metadata": {
    "collapsed": true
   },
   "outputs": [],
   "source": [
    "chicago[\"Position Title\"] = chicago[\"Position Title\"].str.title()"
   ]
  },
  {
   "cell_type": "code",
   "execution_count": 25,
   "metadata": {},
   "outputs": [
    {
     "data": {
      "text/html": [
       "<div>\n",
       "<style>\n",
       "    .dataframe thead tr:only-child th {\n",
       "        text-align: right;\n",
       "    }\n",
       "\n",
       "    .dataframe thead th {\n",
       "        text-align: left;\n",
       "    }\n",
       "\n",
       "    .dataframe tbody tr th {\n",
       "        vertical-align: top;\n",
       "    }\n",
       "</style>\n",
       "<table border=\"1\" class=\"dataframe\">\n",
       "  <thead>\n",
       "    <tr style=\"text-align: right;\">\n",
       "      <th></th>\n",
       "      <th>Name</th>\n",
       "      <th>Position Title</th>\n",
       "      <th>Department</th>\n",
       "      <th>Employee Annual Salary</th>\n",
       "    </tr>\n",
       "  </thead>\n",
       "  <tbody>\n",
       "    <tr>\n",
       "      <th>0</th>\n",
       "      <td>AARON,  ELVIA J</td>\n",
       "      <td>Water Rate Taker</td>\n",
       "      <td>WATER MGMNT</td>\n",
       "      <td>$90744.00</td>\n",
       "    </tr>\n",
       "    <tr>\n",
       "      <th>1</th>\n",
       "      <td>AARON,  JEFFERY M</td>\n",
       "      <td>Police Officer</td>\n",
       "      <td>POLICE</td>\n",
       "      <td>$84450.00</td>\n",
       "    </tr>\n",
       "    <tr>\n",
       "      <th>2</th>\n",
       "      <td>AARON,  KARINA</td>\n",
       "      <td>Police Officer</td>\n",
       "      <td>POLICE</td>\n",
       "      <td>$84450.00</td>\n",
       "    </tr>\n",
       "    <tr>\n",
       "      <th>3</th>\n",
       "      <td>AARON,  KIMBERLEI R</td>\n",
       "      <td>Chief Contract Expediter</td>\n",
       "      <td>GENERAL SERVICES</td>\n",
       "      <td>$89880.00</td>\n",
       "    </tr>\n",
       "    <tr>\n",
       "      <th>4</th>\n",
       "      <td>ABAD JR,  VICENTE M</td>\n",
       "      <td>Civil Engineer Iv</td>\n",
       "      <td>WATER MGMNT</td>\n",
       "      <td>$106836.00</td>\n",
       "    </tr>\n",
       "  </tbody>\n",
       "</table>\n",
       "</div>"
      ],
      "text/plain": [
       "                  Name            Position Title        Department  \\\n",
       "0      AARON,  ELVIA J          Water Rate Taker       WATER MGMNT   \n",
       "1    AARON,  JEFFERY M            Police Officer            POLICE   \n",
       "2       AARON,  KARINA            Police Officer            POLICE   \n",
       "3  AARON,  KIMBERLEI R  Chief Contract Expediter  GENERAL SERVICES   \n",
       "4  ABAD JR,  VICENTE M         Civil Engineer Iv       WATER MGMNT   \n",
       "\n",
       "  Employee Annual Salary  \n",
       "0              $90744.00  \n",
       "1              $84450.00  \n",
       "2              $84450.00  \n",
       "3              $89880.00  \n",
       "4             $106836.00  "
      ]
     },
     "execution_count": 25,
     "metadata": {},
     "output_type": "execute_result"
    }
   ],
   "source": [
    "chicago.head()"
   ]
  },
  {
   "cell_type": "code",
   "execution_count": 26,
   "metadata": {
    "collapsed": true
   },
   "outputs": [
    {
     "data": {
      "text/plain": [
       "0        11.0\n",
       "1         6.0\n",
       "2         6.0\n",
       "3        16.0\n",
       "4        11.0\n",
       "5        12.0\n",
       "6        13.0\n",
       "7         4.0\n",
       "8        12.0\n",
       "9         8.0\n",
       "10        4.0\n",
       "11        6.0\n",
       "12       16.0\n",
       "13        6.0\n",
       "14        4.0\n",
       "15        6.0\n",
       "16        6.0\n",
       "17        4.0\n",
       "18        6.0\n",
       "19        4.0\n",
       "20       11.0\n",
       "21        4.0\n",
       "22        4.0\n",
       "23        4.0\n",
       "24       16.0\n",
       "25       11.0\n",
       "26       13.0\n",
       "27       16.0\n",
       "28        6.0\n",
       "29        4.0\n",
       "         ... \n",
       "32033     6.0\n",
       "32034     6.0\n",
       "32035     6.0\n",
       "32036    13.0\n",
       "32037     4.0\n",
       "32038    11.0\n",
       "32039     4.0\n",
       "32040     6.0\n",
       "32041     4.0\n",
       "32042    16.0\n",
       "32043    13.0\n",
       "32044     6.0\n",
       "32045     4.0\n",
       "32046     7.0\n",
       "32047     6.0\n",
       "32048     3.0\n",
       "32049     4.0\n",
       "32050    11.0\n",
       "32051     8.0\n",
       "32052     6.0\n",
       "32053     4.0\n",
       "32054     6.0\n",
       "32055     6.0\n",
       "32056    16.0\n",
       "32057    16.0\n",
       "32058     6.0\n",
       "32059     6.0\n",
       "32060     6.0\n",
       "32061     4.0\n",
       "32062     NaN\n",
       "Name: Department, Length: 32063, dtype: float64"
      ]
     },
     "execution_count": 26,
     "metadata": {},
     "output_type": "execute_result"
    }
   ],
   "source": [
    "chicago[\"Department\"].str.len()"
   ]
  },
  {
   "cell_type": "code",
   "execution_count": null,
   "metadata": {
    "collapsed": true
   },
   "outputs": [],
   "source": []
  }
 ],
 "metadata": {
  "kernelspec": {
   "display_name": "Python 3",
   "language": "python",
   "name": "python3"
  },
  "language_info": {
   "codemirror_mode": {
    "name": "ipython",
    "version": 3
   },
   "file_extension": ".py",
   "mimetype": "text/x-python",
   "name": "python",
   "nbconvert_exporter": "python",
   "pygments_lexer": "ipython3",
   "version": "3.6.2"
  }
 },
 "nbformat": 4,
 "nbformat_minor": 2
}
